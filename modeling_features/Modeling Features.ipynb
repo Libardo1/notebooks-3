{
 "cells": [
  {
   "cell_type": "markdown",
   "metadata": {},
   "source": [
    "# Modeling Features\n",
    "\n",
    "This is a short notebook reproducing in Python what Jim Savage did [here](http://modernstatisticalworkflow.blogspot.ca/2018/03/1000-labels-and-4500-observations-have.html). My humble computer could not handle 5000 data points for 1000 users, so my numbers are lower, but the general effect described by the post persists. "
   ]
  },
  {
   "cell_type": "code",
   "execution_count": 276,
   "metadata": {},
   "outputs": [],
   "source": [
    "import seaborn as sns\n",
    "import pystan\n",
    "import numpy as np\n",
    "import pandas as pd\n",
    "import scipy\n",
    "from sklearn.ensemble import RandomForestClassifier\n",
    "import xgboost as xgb\n",
    "%matplotlib inline"
   ]
  },
  {
   "cell_type": "markdown",
   "metadata": {},
   "source": [
    "## Data Generation"
   ]
  },
  {
   "cell_type": "code",
   "execution_count": null,
   "metadata": {
    "collapsed": true
   },
   "outputs": [],
   "source": [
    "N = 1000\n",
    "I = 100\n",
    "A = 30\n",
    "H = 150\n",
    "    \n",
    "def get_data(N, I, A, H):\n",
    "    alpha = np.random.normal(0, 2, size=(I, A))\n",
    "    user = np.random.choice(range(I), size=N)\n",
    "    \n",
    "    probabilities = scipy.special.expit(alpha[user])\n",
    "    activities = np.random.binomial(1, probabilities.ravel()).reshape(probabilities.shape)\n",
    "    \n",
    "    user_masked = user.copy()\n",
    "    user_masked[-H:] = -1\n",
    "    \n",
    "    return {\n",
    "        'N': N, \n",
    "        'I': I, \n",
    "        'A': A, \n",
    "        'user': user_masked,\n",
    "        'activities': activities, \n",
    "        'real_user': user\n",
    "    }"
   ]
  },
  {
   "cell_type": "markdown",
   "metadata": {},
   "source": [
    "## Random Guess"
   ]
  },
  {
   "cell_type": "code",
   "execution_count": 213,
   "metadata": {},
   "outputs": [],
   "source": [
    "def accuracy_random(N, I, A, H):\n",
    "    data = get_data(N, I, A, H)\n",
    "    return np.mean(data['real_user'][-H:] == np.random.choice(range(I), size=H))"
   ]
  },
  {
   "cell_type": "code",
   "execution_count": 214,
   "metadata": {},
   "outputs": [],
   "source": [
    "simulations_random = [accuracy_random(N, I, A, H) for i in range(1000)]"
   ]
  },
  {
   "cell_type": "code",
   "execution_count": 215,
   "metadata": {},
   "outputs": [
    {
     "data": {
      "text/plain": [
       "<matplotlib.axes._subplots.AxesSubplot at 0x7f4604d699e8>"
      ]
     },
     "execution_count": 215,
     "metadata": {},
     "output_type": "execute_result"
    },
    {
     "data": {
      "image/png": "[encoded data removed]",
      "text/plain": [
       "<matplotlib.figure.Figure at 0x7f46013b9ba8>"
      ]
     },
     "metadata": {},
     "output_type": "display_data"
    }
   ],
   "source": [
    "sns.distplot(simulations_random)"
   ]
  },
  {
   "cell_type": "markdown",
   "metadata": {},
   "source": [
    "## XGBoost"
   ]
  },
  {
   "cell_type": "code",
   "execution_count": 267,
   "metadata": {
    "collapsed": true
   },
   "outputs": [],
   "source": [
    "def accuracy_xgboost(N, I, A, H):\n",
    "    data = get_data(N, I, A, H)\n",
    "    xg_train = xgb.DMatrix(data['activities'][data['user'] >= 0], label=data['user'][data['user'] >= 0])\n",
    "\n",
    "    param = {'objective':'multi:softmax',\n",
    "             'eta': 0.1,\n",
    "             'max_depth': 6,\n",
    "             'silent': 1,\n",
    "             'nthread' :2,\n",
    "             'num_class': 100}\n",
    "    \n",
    "    bst = xgb.train(param, xg_train, 30)\n",
    "    xg_test = xgb.DMatrix(data['activities'][data['user'] < 0])\n",
    "    pred = bst.predict(xg_test)\n",
    "    return np.mean(pred == data['real_user'][-H:])"
   ]
  },
  {
   "cell_type": "code",
   "execution_count": 268,
   "metadata": {},
   "outputs": [],
   "source": [
    "simulations_xgboost = [accuracy_xgboost(N, I, A, H) for _ in range(100)]"
   ]
  },
  {
   "cell_type": "code",
   "execution_count": 269,
   "metadata": {},
   "outputs": [
    {
     "data": {
      "text/plain": [
       "<matplotlib.axes._subplots.AxesSubplot at 0x7f4601315748>"
      ]
     },
     "execution_count": 269,
     "metadata": {},
     "output_type": "execute_result"
    },
    {
     "data": {
      "image/png": "[encoded data removed]",
      "text/plain": [
       "<matplotlib.figure.Figure at 0x7f46091d8128>"
      ]
     },
     "metadata": {},
     "output_type": "display_data"
    }
   ],
   "source": [
    "sns.distplot(simulations_xgboost)"
   ]
  },
  {
   "cell_type": "markdown",
   "metadata": {},
   "source": [
    "## Random Forest"
   ]
  },
  {
   "cell_type": "code",
   "execution_count": 196,
   "metadata": {
    "collapsed": true
   },
   "outputs": [],
   "source": [
    "def accuracy_rf(N, I, A, H, n_estimators):\n",
    "    data = get_data(N, I, A, H)\n",
    "    clf = RandomForestClassifier(n_estimators=n_estimators)\n",
    "    clf.fit(data['activities'][data['user'] >= 0], data['user'][data['user'] >= 0])\n",
    "    clf_probs = clf.predict_proba(data['activities'][data['user'] < 0])    \n",
    "    return np.mean(np.argmax(clf_probs, axis=1) == data['real_user'][-H:])"
   ]
  },
  {
   "cell_type": "code",
   "execution_count": 220,
   "metadata": {
    "collapsed": true
   },
   "outputs": [],
   "source": [
    "simulations_rf = [accuracy_rf(N, I, A, H, 1000) for _ in range(500)]"
   ]
  },
  {
   "cell_type": "code",
   "execution_count": 221,
   "metadata": {},
   "outputs": [
    {
     "data": {
      "text/plain": [
       "<matplotlib.axes._subplots.AxesSubplot at 0x7f460928ae80>"
      ]
     },
     "execution_count": 221,
     "metadata": {},
     "output_type": "execute_result"
    },
    {
     "data": {
      "image/png": "[encoded data removed]",
      "text/plain": [
       "<matplotlib.figure.Figure at 0x7f46034d65c0>"
      ]
     },
     "metadata": {},
     "output_type": "display_data"
    }
   ],
   "source": [
    "sns.distplot(simulations_rf)"
   ]
  },
  {
   "cell_type": "markdown",
   "metadata": {},
   "source": [
    "## Generative Model"
   ]
  },
  {
   "cell_type": "code",
   "execution_count": 3,
   "metadata": {
    "collapsed": true
   },
   "outputs": [],
   "source": [
    "model_code = '''\n",
    "data {\n",
    "  int N; // number of observations\n",
    "  int I; // number of users\n",
    "  int A; // number of activities\n",
    "  \n",
    "  int user[N]; // user indicator for every observation; -1 if user is missing\n",
    "  \n",
    "  matrix[N, A] activities;\n",
    "}\n",
    "parameters {\n",
    "  matrix[I, A] alpha;\n",
    "}\n",
    "transformed parameters {\n",
    "  matrix[N, I] user_probabilities = rep_matrix(0.0, N, I);\n",
    "  \n",
    "  for(n in 1:N) {\n",
    "    // the user is known\n",
    "    if(user[n] > 0) {\n",
    "      user_probabilities[n, user[n]] = 1.0;\n",
    "    } else {\n",
    "      // the user is unknown\n",
    "      vector[I] tmp;\n",
    "      // loop through users\n",
    "      for(i in 1:I) {\n",
    "        tmp[i] = log(activities[n] * inv_logit(alpha[i]') + (1.0 - activities[n]) * (1.0 - inv_logit(alpha[i]')));\n",
    "      }\n",
    "      user_probabilities[n] = softmax(tmp)';\n",
    "    }\n",
    "  }\n",
    "}\n",
    "model {\n",
    "  // Give prior to alpha\n",
    "  to_vector(alpha) ~ normal(0, 1);\n",
    "  \n",
    "  // calculate the log likelihood\n",
    "  for(n in 1:N) {\n",
    "    if(user[n] > 0) {\n",
    "      // log likelihood in the case that we observe the user\n",
    "      target += activities[n] * log(inv_logit(alpha[user[n]]')) + \n",
    "                (1.0 - activities[n]) * log(1.0 - inv_logit(alpha[user[n]]'));\n",
    "    } else {\n",
    "      // log likelihood in the case we do not observe the user\n",
    "      target += log_sum_exp(log(user_probabilities[n]') + // probability of being each user\n",
    "                            (activities[n] * log(inv_logit(alpha')) + // plus the log likelihood in each state\n",
    "                            (1.0 - activities[n]) * log((1.0 - inv_logit(alpha'))))');\n",
    "    } \n",
    "  }\n",
    "}\n",
    "'''"
   ]
  },
  {
   "cell_type": "code",
   "execution_count": 4,
   "metadata": {},
   "outputs": [
    {
     "name": "stderr",
     "output_type": "stream",
     "text": [
      "INFO:pystan:COMPILING THE C++ CODE FOR MODEL anon_model_27226d70e9221f52daa7ce0334b89b96 NOW.\n"
     ]
    }
   ],
   "source": [
    "model = pystan.StanModel(model_code=model_code)"
   ]
  },
  {
   "cell_type": "code",
   "execution_count": 184,
   "metadata": {},
   "outputs": [],
   "source": [
    "def accuracy(N, I, A, H, model):\n",
    "    data = get_data(N, I, A, H)\n",
    "    user = data['real_user']\n",
    "    estimation = model.optimizing(data=data)\n",
    "    return np.mean(np.argmax(estimation['user_probabilities'][data['user'] < 0 ], axis=1) + 1 == user[-H:])"
   ]
  },
  {
   "cell_type": "code",
   "execution_count": 218,
   "metadata": {},
   "outputs": [],
   "source": [
    "simulations = [accuracy(N, I, A, H, model) for _ in range(300)]"
   ]
  },
  {
   "cell_type": "code",
   "execution_count": 219,
   "metadata": {},
   "outputs": [
    {
     "data": {
      "text/plain": [
       "<matplotlib.axes._subplots.AxesSubplot at 0x7f46083d0208>"
      ]
     },
     "execution_count": 219,
     "metadata": {},
     "output_type": "execute_result"
    },
    {
     "data": {
      "image/png": "[encoded data removed]",
      "text/plain": [
       "<matplotlib.figure.Figure at 0x7f4608392710>"
      ]
     },
     "metadata": {},
     "output_type": "display_data"
    }
   ],
   "source": [
    "sns.distplot(simulations)"
   ]
  }
 ],
 "metadata": {
  "kernelspec": {
   "display_name": "Python 3",
   "language": "python",
   "name": "python3"
  },
  "language_info": {
   "codemirror_mode": {
    "name": "ipython",
    "version": 3
   },
   "file_extension": ".py",
   "mimetype": "text/x-python",
   "name": "python",
   "nbconvert_exporter": "python",
   "pygments_lexer": "ipython3",
   "version": "3.6.4"
  }
 },
 "nbformat": 4,
 "nbformat_minor": 2
}
